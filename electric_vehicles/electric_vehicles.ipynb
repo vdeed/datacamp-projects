{
 "cells": [
  {
   "cell_type": "markdown",
   "id": "1fa6eb42-013c-4126-8e4f-8b694e5f5455",
   "metadata": {},
   "source": [
    "As electronic vehicles (EVs) become more popular, there is an increasing need for access to charging stations, also known as ports. To that end, many modern apartment buildings have begun retrofitting their parking garages to include shared charging stations. A charging station is shared if it is accessible by anyone in the building.\n",
    "\n",
    "<img src=\"charging_station.jpg\" alt=\"EV Charging\" width=\"500\" height=\"auto\">\n",
    "\n",
    "But with increasing demand comes competition for these ports — nothing is more frustrating than coming home to find no charging stations available! In this project, you will use a dataset to help apartment building managers better understand their tenants’ EV charging habits.\n",
    "\n",
    "The data has been loaded into an Azure Databricks database, containing a schema called `vehicles` and a single table named `charging_sessions` with the following columns:\n",
    "\n",
    "## vehicles.charging_sessions\n",
    "\n",
    "| Column | Definition | Data type |\n",
    "|-|-|-|\n",
    "|`garage_id`| Identifier for the garage/building|`STRING`|\n",
    "|`user_id` | Identifier for the individual user|`STRING`|\n",
    "|`user_type`|Indicating whether the station is `Shared` or `Private`| `STRING` |\n",
    "|`start_plugin`|The date and time the session started |`TIMESTAMP`|\n",
    "|`start_plugin_hour`|The hour (in military time) that the session started | `NUMERIC`|\n",
    "|`end_plugout`|The date and time the session ended | `TIMESTAMP` |\n",
    "|`end_plugout_hour`|The hour (in military time) that the session ended | `NUMERIC`|\n",
    "|`duration_hours`| The length of the session, in hours|`NUMERIC`|\n",
    "|`el_kwh`| Amount of electricity used (in Kilowatt hours)|`NUMERIC`|\n",
    "|`month_plugin`| The month that the session started |`STRING`|\n",
    "|`weekdays_plugin`| The day of the week that the session started|`STRING`|\n",
    "\n",
    "Let’s get started!\n",
    "\n",
    "#### Sources\n",
    "- **Data**: [CC BY 4.0](https://creativecommons.org/licenses/by/4.0), via [Kaggle](https://www.kaggle.com/datasets/anshtanwar/residential-ev-chargingfrom-apartment-buildings),\n",
    "- **Image**: Julian Herzog, [CC BY 4.0](https://creativecommons.org/licenses/by/4.0), via Wikimedia Commons"
   ]
  },
  {
   "cell_type": "code",
   "execution_count": 47,
   "id": "3500cbd2-dcc7-48f4-900f-b7bfef803bfb",
   "metadata": {
    "customType": "sql",
    "dataFrameVariableName": "charging_sessions",
    "executionCancelledAt": null,
    "executionTime": null,
    "lastExecutedAt": null,
    "lastExecutedByKernel": null,
    "lastScheduledRunId": null,
    "lastSuccessfullyExecutedCode": null,
    "outputsMetadata": {
     "0": {
      "height": 50,
      "tableState": {
       "customFilter": {
        "const": {
         "type": "boolean",
         "valid": true,
         "value": true
        },
        "id": "06c24b36-e075-4c5d-abf4-7c402876e4d0",
        "nodeType": "const"
       },
       "quickFilterText": ""
      },
      "type": "dataFrame"
     }
    },
    "sqlCellMode": "dataFrame",
    "sqlSource": {
     "integrationId": "5f50fef6-d562-48ec-a25a-c0155ab8520d",
     "integrationType": "redshift",
     "type": "integration"
    }
   },
   "outputs": [
    {
     "data": {
      "application/com.datacamp.data-table.v2+json": {
       "table": {
        "data": {
         "duration_hours": [
          0.05,
          0.136666667,
          8.216388889,
          24.41972222,
          0.970555556,
          18.07777778,
          21.72083333,
          6.188055556,
          2.371111111,
          4.856111111
         ],
         "el_kwh": [
          0.3,
          0.87,
          29.87,
          15.56,
          3.62,
          16.14,
          10.33,
          27.66,
          8.83,
          8.58
         ],
         "end_plugout": [
          "2018-12-21T10:23:00.000",
          "2018-12-21T10:32:00.000",
          "2018-12-21T19:46:00.000",
          "2018-12-23T16:40:00.000",
          "2018-12-24T23:02:00.000",
          "2018-12-25T17:37:00.000",
          "2018-12-26T16:08:00.000",
          "2018-12-26T16:52:00.000",
          "2018-12-26T21:08:00.000",
          "2018-12-29T20:55:00.000"
         ],
         "end_plugout_hour": [
          10,
          10,
          19,
          16,
          23,
          17,
          16,
          16,
          21,
          20
         ],
         "garage_id": [
          "AdO3",
          "AdO3",
          "AdO3",
          "AdO3",
          "AdO3",
          "AdO3",
          "AdO3",
          "AdO3",
          "AdO3",
          "AdO3"
         ],
         "index": [
          0,
          1,
          2,
          3,
          4,
          5,
          6,
          7,
          8,
          9
         ],
         "month_plugin": [
          "Dec",
          "Dec",
          "Dec",
          "Dec",
          "Dec",
          "Dec",
          "Dec",
          "Dec",
          "Dec",
          "Dec"
         ],
         "start_plugin": [
          "2018-12-21T10:20:00.000",
          "2018-12-21T10:24:00.000",
          "2018-12-21T11:33:00.000",
          "2018-12-22T16:15:00.000",
          "2018-12-24T22:03:00.000",
          "2018-12-24T23:32:00.000",
          "2018-12-25T18:25:00.000",
          "2018-12-26T10:41:00.000",
          "2018-12-26T18:46:00.000",
          "2018-12-29T16:04:00.000"
         ],
         "start_plugin_hour": [
          10,
          10,
          11,
          16,
          22,
          23,
          18,
          10,
          18,
          16
         ],
         "user_id": [
          "AdO3-4",
          "AdO3-4",
          "AdO3-4",
          "AdO3-2",
          "AdO3-2",
          "AdO3-2",
          "AdO3-2",
          "AdO3-4",
          "AdO3-2",
          "AdO3-2"
         ],
         "user_type": [
          "Private",
          "Private",
          "Private",
          "Private",
          "Private",
          "Private",
          "Private",
          "Private",
          "Private",
          "Private"
         ],
         "weekdays_plugin": [
          "Friday",
          "Friday",
          "Friday",
          "Saturday",
          "Monday",
          "Monday",
          "Tuesday",
          "Wednesday",
          "Wednesday",
          "Saturday"
         ]
        },
        "schema": {
         "fields": [
          {
           "name": "index",
           "type": "integer"
          },
          {
           "name": "garage_id",
           "type": "string"
          },
          {
           "name": "user_id",
           "type": "string"
          },
          {
           "name": "user_type",
           "type": "string"
          },
          {
           "name": "start_plugin",
           "type": "datetime",
           "tz": "UTC"
          },
          {
           "name": "start_plugin_hour",
           "type": "integer"
          },
          {
           "name": "end_plugout",
           "type": "datetime",
           "tz": "UTC"
          },
          {
           "name": "end_plugout_hour",
           "type": "integer"
          },
          {
           "name": "el_kwh",
           "type": "number"
          },
          {
           "name": "duration_hours",
           "type": "number"
          },
          {
           "name": "month_plugin",
           "type": "string"
          },
          {
           "name": "weekdays_plugin",
           "type": "string"
          }
         ],
         "pandas_version": "1.4.0",
         "primaryKey": [
          "index"
         ]
        }
       },
       "total_rows": 10,
       "truncation_type": null
      },
      "text/html": [
       "<div>\n",
       "<style scoped>\n",
       "    .dataframe tbody tr th:only-of-type {\n",
       "        vertical-align: middle;\n",
       "    }\n",
       "\n",
       "    .dataframe tbody tr th {\n",
       "        vertical-align: top;\n",
       "    }\n",
       "\n",
       "    .dataframe thead th {\n",
       "        text-align: right;\n",
       "    }\n",
       "</style>\n",
       "<table border=\"1\" class=\"dataframe\">\n",
       "  <thead>\n",
       "    <tr style=\"text-align: right;\">\n",
       "      <th></th>\n",
       "      <th>garage_id</th>\n",
       "      <th>user_id</th>\n",
       "      <th>user_type</th>\n",
       "      <th>start_plugin</th>\n",
       "      <th>start_plugin_hour</th>\n",
       "      <th>end_plugout</th>\n",
       "      <th>end_plugout_hour</th>\n",
       "      <th>el_kwh</th>\n",
       "      <th>duration_hours</th>\n",
       "      <th>month_plugin</th>\n",
       "      <th>weekdays_plugin</th>\n",
       "    </tr>\n",
       "  </thead>\n",
       "  <tbody>\n",
       "    <tr>\n",
       "      <th>0</th>\n",
       "      <td>AdO3</td>\n",
       "      <td>AdO3-4</td>\n",
       "      <td>Private</td>\n",
       "      <td>2018-12-21 10:20:00+00:00</td>\n",
       "      <td>10</td>\n",
       "      <td>2018-12-21 10:23:00+00:00</td>\n",
       "      <td>10</td>\n",
       "      <td>0.30</td>\n",
       "      <td>0.050000</td>\n",
       "      <td>Dec</td>\n",
       "      <td>Friday</td>\n",
       "    </tr>\n",
       "    <tr>\n",
       "      <th>1</th>\n",
       "      <td>AdO3</td>\n",
       "      <td>AdO3-4</td>\n",
       "      <td>Private</td>\n",
       "      <td>2018-12-21 10:24:00+00:00</td>\n",
       "      <td>10</td>\n",
       "      <td>2018-12-21 10:32:00+00:00</td>\n",
       "      <td>10</td>\n",
       "      <td>0.87</td>\n",
       "      <td>0.136667</td>\n",
       "      <td>Dec</td>\n",
       "      <td>Friday</td>\n",
       "    </tr>\n",
       "    <tr>\n",
       "      <th>2</th>\n",
       "      <td>AdO3</td>\n",
       "      <td>AdO3-4</td>\n",
       "      <td>Private</td>\n",
       "      <td>2018-12-21 11:33:00+00:00</td>\n",
       "      <td>11</td>\n",
       "      <td>2018-12-21 19:46:00+00:00</td>\n",
       "      <td>19</td>\n",
       "      <td>29.87</td>\n",
       "      <td>8.216389</td>\n",
       "      <td>Dec</td>\n",
       "      <td>Friday</td>\n",
       "    </tr>\n",
       "    <tr>\n",
       "      <th>3</th>\n",
       "      <td>AdO3</td>\n",
       "      <td>AdO3-2</td>\n",
       "      <td>Private</td>\n",
       "      <td>2018-12-22 16:15:00+00:00</td>\n",
       "      <td>16</td>\n",
       "      <td>2018-12-23 16:40:00+00:00</td>\n",
       "      <td>16</td>\n",
       "      <td>15.56</td>\n",
       "      <td>24.419722</td>\n",
       "      <td>Dec</td>\n",
       "      <td>Saturday</td>\n",
       "    </tr>\n",
       "    <tr>\n",
       "      <th>4</th>\n",
       "      <td>AdO3</td>\n",
       "      <td>AdO3-2</td>\n",
       "      <td>Private</td>\n",
       "      <td>2018-12-24 22:03:00+00:00</td>\n",
       "      <td>22</td>\n",
       "      <td>2018-12-24 23:02:00+00:00</td>\n",
       "      <td>23</td>\n",
       "      <td>3.62</td>\n",
       "      <td>0.970556</td>\n",
       "      <td>Dec</td>\n",
       "      <td>Monday</td>\n",
       "    </tr>\n",
       "    <tr>\n",
       "      <th>5</th>\n",
       "      <td>AdO3</td>\n",
       "      <td>AdO3-2</td>\n",
       "      <td>Private</td>\n",
       "      <td>2018-12-24 23:32:00+00:00</td>\n",
       "      <td>23</td>\n",
       "      <td>2018-12-25 17:37:00+00:00</td>\n",
       "      <td>17</td>\n",
       "      <td>16.14</td>\n",
       "      <td>18.077778</td>\n",
       "      <td>Dec</td>\n",
       "      <td>Monday</td>\n",
       "    </tr>\n",
       "    <tr>\n",
       "      <th>6</th>\n",
       "      <td>AdO3</td>\n",
       "      <td>AdO3-2</td>\n",
       "      <td>Private</td>\n",
       "      <td>2018-12-25 18:25:00+00:00</td>\n",
       "      <td>18</td>\n",
       "      <td>2018-12-26 16:08:00+00:00</td>\n",
       "      <td>16</td>\n",
       "      <td>10.33</td>\n",
       "      <td>21.720833</td>\n",
       "      <td>Dec</td>\n",
       "      <td>Tuesday</td>\n",
       "    </tr>\n",
       "    <tr>\n",
       "      <th>7</th>\n",
       "      <td>AdO3</td>\n",
       "      <td>AdO3-4</td>\n",
       "      <td>Private</td>\n",
       "      <td>2018-12-26 10:41:00+00:00</td>\n",
       "      <td>10</td>\n",
       "      <td>2018-12-26 16:52:00+00:00</td>\n",
       "      <td>16</td>\n",
       "      <td>27.66</td>\n",
       "      <td>6.188056</td>\n",
       "      <td>Dec</td>\n",
       "      <td>Wednesday</td>\n",
       "    </tr>\n",
       "    <tr>\n",
       "      <th>8</th>\n",
       "      <td>AdO3</td>\n",
       "      <td>AdO3-2</td>\n",
       "      <td>Private</td>\n",
       "      <td>2018-12-26 18:46:00+00:00</td>\n",
       "      <td>18</td>\n",
       "      <td>2018-12-26 21:08:00+00:00</td>\n",
       "      <td>21</td>\n",
       "      <td>8.83</td>\n",
       "      <td>2.371111</td>\n",
       "      <td>Dec</td>\n",
       "      <td>Wednesday</td>\n",
       "    </tr>\n",
       "    <tr>\n",
       "      <th>9</th>\n",
       "      <td>AdO3</td>\n",
       "      <td>AdO3-2</td>\n",
       "      <td>Private</td>\n",
       "      <td>2018-12-29 16:04:00+00:00</td>\n",
       "      <td>16</td>\n",
       "      <td>2018-12-29 20:55:00+00:00</td>\n",
       "      <td>20</td>\n",
       "      <td>8.58</td>\n",
       "      <td>4.856111</td>\n",
       "      <td>Dec</td>\n",
       "      <td>Saturday</td>\n",
       "    </tr>\n",
       "  </tbody>\n",
       "</table>\n",
       "</div>"
      ],
      "text/plain": [
       "  garage_id user_id user_type  ... duration_hours  month_plugin weekdays_plugin\n",
       "0      AdO3  AdO3-4   Private  ...       0.050000           Dec          Friday\n",
       "1      AdO3  AdO3-4   Private  ...       0.136667           Dec          Friday\n",
       "2      AdO3  AdO3-4   Private  ...       8.216389           Dec          Friday\n",
       "3      AdO3  AdO3-2   Private  ...      24.419722           Dec        Saturday\n",
       "4      AdO3  AdO3-2   Private  ...       0.970556           Dec          Monday\n",
       "5      AdO3  AdO3-2   Private  ...      18.077778           Dec          Monday\n",
       "6      AdO3  AdO3-2   Private  ...      21.720833           Dec         Tuesday\n",
       "7      AdO3  AdO3-4   Private  ...       6.188056           Dec       Wednesday\n",
       "8      AdO3  AdO3-2   Private  ...       2.371111           Dec       Wednesday\n",
       "9      AdO3  AdO3-2   Private  ...       4.856111           Dec        Saturday\n",
       "\n",
       "[10 rows x 11 columns]"
      ]
     },
     "execution_count": 47,
     "metadata": {
      "application/com.datacamp.data-table.v2+json": {
       "status": "success"
      }
     },
     "output_type": "execute_result"
    }
   ],
   "source": [
    "-- inspecting_dataset\n",
    "\n",
    "SELECT *\n",
    "FROM VEHICLES.CHARGING_SESSIONS\n",
    "LIMIT 10"
   ]
  },
  {
   "cell_type": "code",
   "execution_count": 43,
   "id": "39775672-51b3-43e0-8063-b6b6352e2544",
   "metadata": {
    "customType": "sql",
    "dataFrameVariableName": "unique_users_per_garage",
    "executionCancelledAt": null,
    "executionTime": 2472,
    "lastExecutedAt": 1737409091119,
    "lastExecutedByKernel": "5889a954-6615-4701-8f2b-7b78a56bffff",
    "lastScheduledRunId": null,
    "lastSuccessfullyExecutedCode": "-- unique_users_per_garage\nSELECT \n    garage_id, \n    COUNT(DISTINCT user_id) AS num_unique_users\nFROM \n    VEHICLES.CHARGING_SESSIONS\nWHERE \n    user_type = 'Shared'\nGROUP BY \n    garage_id\nORDER BY \n    num_unique_users DESC;\n",
    "outputsMetadata": {
     "0": {
      "height": 50,
      "tableState": {
       "customFilter": {
        "const": {
         "type": "boolean",
         "valid": true,
         "value": true
        },
        "id": "06c24b36-e075-4c5d-abf4-7c402876e4d0",
        "nodeType": "const"
       },
       "quickFilterText": ""
      },
      "type": "dataFrame"
     }
    },
    "sqlCellMode": "dataFrame",
    "sqlSource": {
     "integrationId": "5f50fef6-d562-48ec-a25a-c0155ab8520d",
     "integrationType": "redshift",
     "type": "integration"
    }
   },
   "outputs": [
    {
     "data": {
      "application/com.datacamp.data-table.v2+json": {
       "table": {
        "data": {
         "garage_id": [
          "Bl2",
          "AsO2",
          "UT9",
          "AdO3",
          "SR2",
          "MS1",
          "AdA1",
          "Ris"
         ],
         "index": [
          0,
          1,
          2,
          3,
          4,
          5,
          6,
          7
         ],
         "num_unique_users": [
          18,
          17,
          16,
          3,
          2,
          2,
          1,
          1
         ]
        },
        "schema": {
         "fields": [
          {
           "name": "index",
           "type": "integer"
          },
          {
           "name": "garage_id",
           "type": "string"
          },
          {
           "name": "num_unique_users",
           "type": "integer"
          }
         ],
         "pandas_version": "1.4.0",
         "primaryKey": [
          "index"
         ]
        }
       },
       "total_rows": 8,
       "truncation_type": null
      },
      "text/html": [
       "<div>\n",
       "<style scoped>\n",
       "    .dataframe tbody tr th:only-of-type {\n",
       "        vertical-align: middle;\n",
       "    }\n",
       "\n",
       "    .dataframe tbody tr th {\n",
       "        vertical-align: top;\n",
       "    }\n",
       "\n",
       "    .dataframe thead th {\n",
       "        text-align: right;\n",
       "    }\n",
       "</style>\n",
       "<table border=\"1\" class=\"dataframe\">\n",
       "  <thead>\n",
       "    <tr style=\"text-align: right;\">\n",
       "      <th></th>\n",
       "      <th>garage_id</th>\n",
       "      <th>num_unique_users</th>\n",
       "    </tr>\n",
       "  </thead>\n",
       "  <tbody>\n",
       "    <tr>\n",
       "      <th>0</th>\n",
       "      <td>Bl2</td>\n",
       "      <td>18</td>\n",
       "    </tr>\n",
       "    <tr>\n",
       "      <th>1</th>\n",
       "      <td>AsO2</td>\n",
       "      <td>17</td>\n",
       "    </tr>\n",
       "    <tr>\n",
       "      <th>2</th>\n",
       "      <td>UT9</td>\n",
       "      <td>16</td>\n",
       "    </tr>\n",
       "    <tr>\n",
       "      <th>3</th>\n",
       "      <td>AdO3</td>\n",
       "      <td>3</td>\n",
       "    </tr>\n",
       "    <tr>\n",
       "      <th>4</th>\n",
       "      <td>SR2</td>\n",
       "      <td>2</td>\n",
       "    </tr>\n",
       "    <tr>\n",
       "      <th>5</th>\n",
       "      <td>MS1</td>\n",
       "      <td>2</td>\n",
       "    </tr>\n",
       "    <tr>\n",
       "      <th>6</th>\n",
       "      <td>AdA1</td>\n",
       "      <td>1</td>\n",
       "    </tr>\n",
       "    <tr>\n",
       "      <th>7</th>\n",
       "      <td>Ris</td>\n",
       "      <td>1</td>\n",
       "    </tr>\n",
       "  </tbody>\n",
       "</table>\n",
       "</div>"
      ],
      "text/plain": [
       "  garage_id  num_unique_users\n",
       "0       Bl2                18\n",
       "1      AsO2                17\n",
       "2       UT9                16\n",
       "3      AdO3                 3\n",
       "4       SR2                 2\n",
       "5       MS1                 2\n",
       "6      AdA1                 1\n",
       "7       Ris                 1"
      ]
     },
     "execution_count": 43,
     "metadata": {
      "application/com.datacamp.data-table.v2+json": {
       "status": "success"
      }
     },
     "output_type": "execute_result"
    }
   ],
   "source": [
    "-- unique_users_per_garage\n",
    "\n",
    "SELECT\n",
    "    garage_id,\n",
    "    COUNT(DISTINCT user_id) AS num_unique_users\n",
    "FROM\n",
    "    VEHICLES.CHARGING_SESSIONS\n",
    "WHERE\n",
    "    user_type = 'Shared'\n",
    "GROUP BY\n",
    "    garage_id\n",
    "ORDER BY\n",
    "    num_unique_users DESC;"
   ]
  },
  {
   "cell_type": "code",
   "execution_count": 44,
   "id": "292316f5-f82a-4a41-927f-2ddac2750184",
   "metadata": {
    "customType": "sql",
    "dataFrameVariableName": "most_popular_shared_start_times",
    "executionCancelledAt": null,
    "executionTime": null,
    "lastExecutedAt": null,
    "lastExecutedByKernel": null,
    "lastScheduledRunId": null,
    "lastSuccessfullyExecutedCode": null,
    "outputsMetadata": {
     "0": {
      "height": 50,
      "tableState": {
       "customFilter": {
        "const": {
         "type": "boolean",
         "valid": true,
         "value": true
        },
        "id": "06c24b36-e075-4c5d-abf4-7c402876e4d0",
        "nodeType": "const"
       },
       "quickFilterText": ""
      },
      "type": "dataFrame"
     }
    },
    "sqlCellMode": "dataFrame",
    "sqlSource": {
     "integrationId": "5f50fef6-d562-48ec-a25a-c0155ab8520d",
     "integrationType": "redshift",
     "type": "integration"
    }
   },
   "outputs": [
    {
     "data": {
      "application/com.datacamp.data-table.v2+json": {
       "table": {
        "data": {
         "index": [
          0,
          1,
          2,
          3,
          4,
          5,
          6,
          7,
          8,
          9
         ],
         "num_charging_sessions": [
          30,
          28,
          26,
          26,
          25,
          25,
          25,
          24,
          24,
          23
         ],
         "start_plugin_hour": [
          17,
          15,
          16,
          19,
          15,
          19,
          18,
          16,
          15,
          17
         ],
         "weekdays_plugin": [
          "Sunday",
          "Friday",
          "Thursday",
          "Thursday",
          "Sunday",
          "Wednesday",
          "Sunday",
          "Friday",
          "Monday",
          "Saturday"
         ]
        },
        "schema": {
         "fields": [
          {
           "name": "index",
           "type": "integer"
          },
          {
           "name": "weekdays_plugin",
           "type": "string"
          },
          {
           "name": "start_plugin_hour",
           "type": "integer"
          },
          {
           "name": "num_charging_sessions",
           "type": "integer"
          }
         ],
         "pandas_version": "1.4.0",
         "primaryKey": [
          "index"
         ]
        }
       },
       "total_rows": 10,
       "truncation_type": null
      },
      "text/html": [
       "<div>\n",
       "<style scoped>\n",
       "    .dataframe tbody tr th:only-of-type {\n",
       "        vertical-align: middle;\n",
       "    }\n",
       "\n",
       "    .dataframe tbody tr th {\n",
       "        vertical-align: top;\n",
       "    }\n",
       "\n",
       "    .dataframe thead th {\n",
       "        text-align: right;\n",
       "    }\n",
       "</style>\n",
       "<table border=\"1\" class=\"dataframe\">\n",
       "  <thead>\n",
       "    <tr style=\"text-align: right;\">\n",
       "      <th></th>\n",
       "      <th>weekdays_plugin</th>\n",
       "      <th>start_plugin_hour</th>\n",
       "      <th>num_charging_sessions</th>\n",
       "    </tr>\n",
       "  </thead>\n",
       "  <tbody>\n",
       "    <tr>\n",
       "      <th>0</th>\n",
       "      <td>Sunday</td>\n",
       "      <td>17</td>\n",
       "      <td>30</td>\n",
       "    </tr>\n",
       "    <tr>\n",
       "      <th>1</th>\n",
       "      <td>Friday</td>\n",
       "      <td>15</td>\n",
       "      <td>28</td>\n",
       "    </tr>\n",
       "    <tr>\n",
       "      <th>2</th>\n",
       "      <td>Thursday</td>\n",
       "      <td>16</td>\n",
       "      <td>26</td>\n",
       "    </tr>\n",
       "    <tr>\n",
       "      <th>3</th>\n",
       "      <td>Thursday</td>\n",
       "      <td>19</td>\n",
       "      <td>26</td>\n",
       "    </tr>\n",
       "    <tr>\n",
       "      <th>4</th>\n",
       "      <td>Sunday</td>\n",
       "      <td>15</td>\n",
       "      <td>25</td>\n",
       "    </tr>\n",
       "    <tr>\n",
       "      <th>5</th>\n",
       "      <td>Wednesday</td>\n",
       "      <td>19</td>\n",
       "      <td>25</td>\n",
       "    </tr>\n",
       "    <tr>\n",
       "      <th>6</th>\n",
       "      <td>Sunday</td>\n",
       "      <td>18</td>\n",
       "      <td>25</td>\n",
       "    </tr>\n",
       "    <tr>\n",
       "      <th>7</th>\n",
       "      <td>Friday</td>\n",
       "      <td>16</td>\n",
       "      <td>24</td>\n",
       "    </tr>\n",
       "    <tr>\n",
       "      <th>8</th>\n",
       "      <td>Monday</td>\n",
       "      <td>15</td>\n",
       "      <td>24</td>\n",
       "    </tr>\n",
       "    <tr>\n",
       "      <th>9</th>\n",
       "      <td>Saturday</td>\n",
       "      <td>17</td>\n",
       "      <td>23</td>\n",
       "    </tr>\n",
       "  </tbody>\n",
       "</table>\n",
       "</div>"
      ],
      "text/plain": [
       "  weekdays_plugin  start_plugin_hour  num_charging_sessions\n",
       "0          Sunday                 17                     30\n",
       "1          Friday                 15                     28\n",
       "2        Thursday                 16                     26\n",
       "3        Thursday                 19                     26\n",
       "4          Sunday                 15                     25\n",
       "5       Wednesday                 19                     25\n",
       "6          Sunday                 18                     25\n",
       "7          Friday                 16                     24\n",
       "8          Monday                 15                     24\n",
       "9        Saturday                 17                     23"
      ]
     },
     "execution_count": 44,
     "metadata": {
      "application/com.datacamp.data-table.v2+json": {
       "status": "success"
      }
     },
     "output_type": "execute_result"
    }
   ],
   "source": [
    "-- most_popular_shared_start_times\n",
    "\n",
    "SELECT\n",
    "    weekdays_plugin,\n",
    "    start_plugin_hour,\n",
    "    COUNT(*) AS num_charging_sessions\n",
    "FROM\n",
    "    vehicles.charging_sessions\n",
    "WHERE\n",
    "    user_type = 'Shared'\n",
    "GROUP BY\n",
    "    weekdays_plugin,\n",
    "    start_plugin_hour\n",
    "ORDER BY\n",
    "    num_charging_sessions DESC\n",
    "LIMIT\n",
    "    10;"
   ]
  },
  {
   "cell_type": "code",
   "execution_count": 48,
   "id": "f7c60649-f80d-47a2-9dc1-3a314b6a85e4",
   "metadata": {
    "customType": "sql",
    "dataFrameVariableName": "long_duration_shared_users",
    "executionCancelledAt": null,
    "executionTime": 988,
    "lastExecutedAt": 1737412597038,
    "lastExecutedByKernel": "5889a954-6615-4701-8f2b-7b78a56bffff",
    "lastScheduledRunId": null,
    "lastSuccessfullyExecutedCode": "-- long_duration_shared_users\nSELECT\n    user_id,\n    AVG(duration_hours) as avg_charging_duration\nFROM\n    vehicles.charging_sessions\nWHERE\n    user_type = 'Shared'\nGROUP BY\n    user_id\nHAVING\n    AVG(duration_hours) > 10\nORDER BY\n    AVG(duration_hours) DESC;",
    "outputsMetadata": {
     "0": {
      "height": 50,
      "tableState": {
       "customFilter": {
        "const": {
         "type": "boolean",
         "valid": true,
         "value": true
        },
        "id": "06c24b36-e075-4c5d-abf4-7c402876e4d0",
        "nodeType": "const"
       },
       "quickFilterText": ""
      },
      "type": "dataFrame"
     }
    },
    "sqlCellMode": "dataFrame",
    "sqlSource": {
     "integrationId": "5f50fef6-d562-48ec-a25a-c0155ab8520d",
     "integrationType": "redshift",
     "type": "integration"
    }
   },
   "outputs": [
    {
     "data": {
      "application/com.datacamp.data-table.v2+json": {
       "table": {
        "data": {
         "avg_charging_duration": [
          16.845833335,
          12.8945555511,
          12.2144747466,
          12.0888071898,
          11.5504308392,
          10.3693869729
         ],
         "index": [
          0,
          1,
          2,
          3,
          4,
          5
         ],
         "user_id": [
          "Share-9",
          "Share-17",
          "Share-25",
          "Share-18",
          "Share-8",
          "AdO3-1"
         ]
        },
        "schema": {
         "fields": [
          {
           "name": "index",
           "type": "integer"
          },
          {
           "name": "user_id",
           "type": "string"
          },
          {
           "name": "avg_charging_duration",
           "type": "number"
          }
         ],
         "pandas_version": "1.4.0",
         "primaryKey": [
          "index"
         ]
        }
       },
       "total_rows": 6,
       "truncation_type": null
      },
      "text/html": [
       "<div>\n",
       "<style scoped>\n",
       "    .dataframe tbody tr th:only-of-type {\n",
       "        vertical-align: middle;\n",
       "    }\n",
       "\n",
       "    .dataframe tbody tr th {\n",
       "        vertical-align: top;\n",
       "    }\n",
       "\n",
       "    .dataframe thead th {\n",
       "        text-align: right;\n",
       "    }\n",
       "</style>\n",
       "<table border=\"1\" class=\"dataframe\">\n",
       "  <thead>\n",
       "    <tr style=\"text-align: right;\">\n",
       "      <th></th>\n",
       "      <th>user_id</th>\n",
       "      <th>avg_charging_duration</th>\n",
       "    </tr>\n",
       "  </thead>\n",
       "  <tbody>\n",
       "    <tr>\n",
       "      <th>0</th>\n",
       "      <td>Share-9</td>\n",
       "      <td>16.845833</td>\n",
       "    </tr>\n",
       "    <tr>\n",
       "      <th>1</th>\n",
       "      <td>Share-17</td>\n",
       "      <td>12.894556</td>\n",
       "    </tr>\n",
       "    <tr>\n",
       "      <th>2</th>\n",
       "      <td>Share-25</td>\n",
       "      <td>12.214475</td>\n",
       "    </tr>\n",
       "    <tr>\n",
       "      <th>3</th>\n",
       "      <td>Share-18</td>\n",
       "      <td>12.088807</td>\n",
       "    </tr>\n",
       "    <tr>\n",
       "      <th>4</th>\n",
       "      <td>Share-8</td>\n",
       "      <td>11.550431</td>\n",
       "    </tr>\n",
       "    <tr>\n",
       "      <th>5</th>\n",
       "      <td>AdO3-1</td>\n",
       "      <td>10.369387</td>\n",
       "    </tr>\n",
       "  </tbody>\n",
       "</table>\n",
       "</div>"
      ],
      "text/plain": [
       "    user_id  avg_charging_duration\n",
       "0   Share-9              16.845833\n",
       "1  Share-17              12.894556\n",
       "2  Share-25              12.214475\n",
       "3  Share-18              12.088807\n",
       "4   Share-8              11.550431\n",
       "5    AdO3-1              10.369387"
      ]
     },
     "execution_count": 48,
     "metadata": {
      "application/com.datacamp.data-table.v2+json": {
       "status": "success"
      }
     },
     "output_type": "execute_result"
    }
   ],
   "source": [
    "-- long_duration_shared_users\n",
    "\n",
    "SELECT\n",
    "    user_id,\n",
    "    AVG(duration_hours) as avg_charging_duration\n",
    "FROM\n",
    "    vehicles.charging_sessions\n",
    "WHERE\n",
    "    user_type = 'Shared'\n",
    "GROUP BY\n",
    "    user_id\n",
    "HAVING\n",
    "    AVG(duration_hours) > 10\n",
    "ORDER BY\n",
    "    AVG(duration_hours) DESC;"
   ]
  }
 ],
 "metadata": {
  "colab": {
   "name": "Welcome to DataCamp Workspaces.ipynb",
   "provenance": []
  },
  "kernelspec": {
   "display_name": "Python 3 (ipykernel)",
   "language": "python",
   "name": "python3"
  },
  "language_info": {
   "codemirror_mode": {
    "name": "ipython",
    "version": 3
   },
   "file_extension": ".py",
   "mimetype": "text/x-python",
   "name": "python",
   "nbconvert_exporter": "python",
   "pygments_lexer": "ipython3",
   "version": "3.8.10"
  }
 },
 "nbformat": 4,
 "nbformat_minor": 5
}
